{
 "cells": [
  {
   "cell_type": "markdown",
   "id": "1bef9993",
   "metadata": {},
   "source": [
    "# Projeto Aplicado IV — Dataset Overview\n",
    "**Tema:** Previsão de Consumo de Energia Elétrica no Brasil  \n",
    "**Data:** 28/08/2025  \n",
    "\n",
    "Este notebook apresenta um **overview rápido** do dataset que será utilizado no projeto (séries temporais de carga de energia diária do ONS).\n"
   ]
  },
  {
   "cell_type": "markdown",
   "id": "a2318778",
   "metadata": {},
   "source": [
    "## Sobre o dataset\n",
    "- **Fonte:** Operador Nacional do Sistema Elétrico (ONS) — Dados Abertos  \n",
    "- **Conjunto:** *Carga de Energia Diária* (CSV)  \n",
    "- **Periodicidade:** diária  \n",
    "- **Principais variáveis esperadas:** `data`, `subsistema`, `carga_mwmed` (nomes podem variar conforme versão)  \n",
    "- **Repositório do projeto:** https://github.com/contateobrito/Projeto_Aplicado_IV\n",
    "\n",
    "> Observação: Baixe o CSV correspondente (ex.: `Carga_Energia_2025.csv`) do portal do ONS e coloque-o na pasta `data/` do repositório local.\n"
   ]
  },
  {
   "cell_type": "code",
   "execution_count": 1,
   "id": "16fc40bf",
   "metadata": {},
   "outputs": [
    {
     "ename": "ModuleNotFoundError",
     "evalue": "No module named 'matplotlib'",
     "output_type": "error",
     "traceback": [
      "\u001b[31m---------------------------------------------------------------------------\u001b[39m",
      "\u001b[31mModuleNotFoundError\u001b[39m                       Traceback (most recent call last)",
      "\u001b[36mCell\u001b[39m\u001b[36m \u001b[39m\u001b[32mIn[1]\u001b[39m\u001b[32m, line 5\u001b[39m\n\u001b[32m      3\u001b[39m \u001b[38;5;28;01mimport\u001b[39;00m\u001b[38;5;250m \u001b[39m\u001b[34;01mos\u001b[39;00m\n\u001b[32m      4\u001b[39m \u001b[38;5;28;01mimport\u001b[39;00m\u001b[38;5;250m \u001b[39m\u001b[34;01mpandas\u001b[39;00m\u001b[38;5;250m \u001b[39m\u001b[38;5;28;01mas\u001b[39;00m\u001b[38;5;250m \u001b[39m\u001b[34;01mpd\u001b[39;00m\n\u001b[32m----> \u001b[39m\u001b[32m5\u001b[39m \u001b[38;5;28;01mimport\u001b[39;00m\u001b[38;5;250m \u001b[39m\u001b[34;01mmatplotlib\u001b[39;00m\u001b[34;01m.\u001b[39;00m\u001b[34;01mpyplot\u001b[39;00m\u001b[38;5;250m \u001b[39m\u001b[38;5;28;01mas\u001b[39;00m\u001b[38;5;250m \u001b[39m\u001b[34;01mplt\u001b[39;00m\n\u001b[32m      7\u001b[39m pd.set_option(\u001b[33m\"\u001b[39m\u001b[33mdisplay.max_columns\u001b[39m\u001b[33m\"\u001b[39m, \u001b[32m50\u001b[39m)\n\u001b[32m      8\u001b[39m pd.set_option(\u001b[33m\"\u001b[39m\u001b[33mdisplay.width\u001b[39m\u001b[33m\"\u001b[39m, \u001b[32m120\u001b[39m)\n",
      "\u001b[31mModuleNotFoundError\u001b[39m: No module named 'matplotlib'"
     ]
    }
   ],
   "source": [
    "## Setup\n",
    "# Bibliotecas principais\n",
    "import os\n",
    "import pandas as pd\n",
    "import matplotlib.pyplot as plt\n",
    "\n",
    "pd.set_option(\"display.max_columns\", 50)\n",
    "pd.set_option(\"display.width\", 120)\n",
    "\n",
    "print(\"Pandas:\", pd.__version__)\n"
   ]
  },
  {
   "cell_type": "code",
   "execution_count": null,
   "id": "4376f117",
   "metadata": {},
   "outputs": [],
   "source": [
    "## Caminhos e arquivo de dados\n",
    "# Ajuste o caminho conforme sua estrutura local do repositório\n",
    "DATA_DIR = os.path.join(os.getcwd(), \"data\")\n",
    "CSV_FILE = os.path.join(DATA_DIR, \"Carga_Energia_2025.csv\")  # exemplo; renomeie se necessário\n",
    "\n",
    "print(\"Pasta de dados:\", DATA_DIR)\n",
    "print(\"Arquivo CSV esperado:\", CSV_FILE)\n",
    "print(\"Existe?\", os.path.exists(CSV_FILE))\n"
   ]
  },
  {
   "cell_type": "code",
   "execution_count": null,
   "id": "ffcc4f7b",
   "metadata": {},
   "outputs": [],
   "source": [
    "## Leitura dos dados\n",
    "df = None\n",
    "if os.path.exists(CSV_FILE):\n",
    "    try:\n",
    "        df = pd.read_csv(CSV_FILE, encoding=\"utf-8\")\n",
    "    except Exception as e:\n",
    "        print(\"Falha ao ler CSV com UTF-8:\", e)\n",
    "        print(\"Tentando 'latin-1'...\")\n",
    "        df = pd.read_csv(CSV_FILE, encoding=\"latin-1\")\n",
    "else:\n",
    "    print(\"⚠️ CSV não encontrado. Coloque o arquivo na pasta 'data/' para continuar.\")\n",
    "\n",
    "df.head(10) if df is not None else None\n"
   ]
  },
  {
   "cell_type": "code",
   "execution_count": null,
   "id": "490a57f6",
   "metadata": {},
   "outputs": [],
   "source": [
    "## Informações básicas\n",
    "if df is not None:\n",
    "    display(df.info())\n",
    "    display(df.describe(include='all').T.head(20))\n",
    "else:\n",
    "    print(\"Sem dados carregados.\")\n"
   ]
  },
  {
   "cell_type": "markdown",
   "id": "31acf247",
   "metadata": {},
   "source": [
    "## Padronização mínima de colunas (opcional)\n",
    "if df is not None:\n",
    "    cand_data = [c for c in df.columns if c.lower() in (\"data\", \"dt\", \"date\")]\n",
    "    cand_subs = [c for c in df.columns if c.lower() in (\"subsistema\",\"subsis\",\"area\",\"regiao\")]\n",
    "    cand_carga = [c for c in df.columns if c.lower() in (\"carga_mwmed\",\"carga\",\"mwmed\",\"valor\")]\n",
    "\n",
    "    col_data = cand_data[0] if cand_data else None\n",
    "    col_subs = cand_subs[0] if cand_subs else None\n",
    "    col_carga = cand_carga[0] if cand_carga else None\n",
    "\n",
    "    print(\"Mapeamento detectado:\", col_data, col_subs, col_carga)\n",
    "\n",
    "    if col_data is not None:\n",
    "        df[\"data_padrao\"] = pd.to_datetime(df[col_data], errors=\"coerce\", dayfirst=True, infer_datetime_format=True)\n",
    "    if col_subs is not None:\n",
    "        df[\"subsistema_padrao\"] = df[col_subs].astype(str)\n",
    "    if col_carga is not None:\n",
    "        df[\"carga_mwmed_padrao\"] = pd.to_numeric(df[col_carga], errors=\"coerce\")\n",
    "\n",
    "    display(df.head(10))\n",
    "else:\n",
    "    print(\"Sem dados carregados.\")\n"
   ]
  },
  {
   "cell_type": "code",
   "execution_count": null,
   "id": "9c129752",
   "metadata": {},
   "outputs": [],
   "source": [
    "## Resumo rápido\n",
    "if df is not None:\n",
    "    if \"data_padrao\" in df.columns:\n",
    "        print(\"Período:\", df[\"data_padrao\"].min(), \"→\", df[\"data_padrao\"].max())\n",
    "    if \"subsistema_padrao\" in df.columns:\n",
    "        print(\"Subsistemas:\", sorted(df[\"subsistema_padrao\"].dropna().unique().tolist())[:20])\n",
    "    na_counts = df.isna().sum().sort_values(ascending=False).head(10)\n",
    "    print(\"\\nTop 10 colunas com ausências:\\n\", na_counts)\n",
    "else:\n",
    "    print(\"Sem dados carregados.\")\n"
   ]
  },
  {
   "cell_type": "code",
   "execution_count": null,
   "id": "71ce4ee0",
   "metadata": {},
   "outputs": [],
   "source": [
    "## Visualização simples (agregado diário)\n",
    "if df is not None and all(col in df.columns for col in [\"data_padrao\",\"carga_mwmed_padrao\"]):\n",
    "    serie = df.dropna(subset=[\"data_padrao\",\"carga_mwmed_padrao\"]).groupby(\"data_padrao\")[\"carga_mwmed_padrao\"].sum()\n",
    "    plt.figure(figsize=(10,4))\n",
    "    serie.plot()\n",
    "    plt.title(\"Carga diária agregada (MW médios)\")\n",
    "    plt.xlabel(\"Data\")\n",
    "    plt.ylabel(\"Carga (MW médios)\")\n",
    "    plt.tight_layout()\n",
    "    plt.show()\n",
    "else:\n",
    "    print(\"Sem dados padronizados suficientes para o gráfico (data/carga).\")\n"
   ]
  },
  {
   "cell_type": "markdown",
   "id": "82292f4c",
   "metadata": {},
   "source": [
    "## Próximos passos\n",
    "- Verificar dicionário de dados do ONS e confirmar nomes exatos das colunas.  \n",
    "- Tratar valores ausentes e padronizar os tipos.  \n",
    "- Definir escopo: nacional agregado ou por subsistema.  \n",
    "- Preparar *notebooks* para EDA (Etapa 2) e para modelagem (Etapa 3).\n"
   ]
  }
 ],
 "metadata": {
  "kernelspec": {
   "display_name": "Python 3",
   "language": "python",
   "name": "python3"
  },
  "language_info": {
   "codemirror_mode": {
    "name": "ipython",
    "version": 3
   },
   "file_extension": ".py",
   "mimetype": "text/x-python",
   "name": "python",
   "nbconvert_exporter": "python",
   "pygments_lexer": "ipython3",
   "version": "3.13.2"
  }
 },
 "nbformat": 4,
 "nbformat_minor": 5
}
